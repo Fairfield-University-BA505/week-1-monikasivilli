{
 "cells": [
  {
   "cell_type": "markdown",
   "metadata": {},
   "source": [
    "#Your First Python Program"
   ]
  },
  {
   "cell_type": "code",
   "execution_count": 1,
   "metadata": {},
   "outputs": [
    {
     "name": "stdout",
     "output_type": "stream",
     "text": [
      "Hello World!\n"
     ]
    }
   ],
   "source": [
    "print(\"Hello World!\")"
   ]
  },
  {
   "cell_type": "markdown",
   "metadata": {},
   "source": [
    "Exercise 5:"
   ]
  },
  {
   "cell_type": "raw",
   "metadata": {},
   "source": [
    ">>> primt 'Hello world!'\n",
    "File \"<stdin>\", line 1\n",
    "primt 'Hello world!'\n",
    "                    ^\n",
    "SyntaxError: invalid syntax\n",
    ">>>"
   ]
  },
  {
   "cell_type": "markdown",
   "metadata": {},
   "source": [
    "The error with exercise 5 is that 'primt' is spelled wrong, therefore, it's not defined in python. It should be print('Hello World'). In this case where Python is marking the error with ^ is misleading, therefore, it is important to always use logic when looking at code and determining errors, especially syntax errors."
   ]
  },
  {
   "cell_type": "markdown",
   "metadata": {},
   "source": [
    "Exercise 7: the answer is B) 44 because x will return whatever it was defined as last because code reads from top down. "
   ]
  },
  {
   "cell_type": "code",
   "execution_count": 6,
   "metadata": {},
   "outputs": [
    {
     "name": "stdout",
     "output_type": "stream",
     "text": [
      "44\n"
     ]
    }
   ],
   "source": [
    "x = 43\n",
    "x = x + 1 \n",
    "print(x)"
   ]
  },
  {
   "cell_type": "markdown",
   "metadata": {},
   "source": [
    "Exercise 9: A syntax error is an error in how the code is written. Either something is not defined within Python's language or code was written incorrectly. Python will try and mark where the syntax error occurred, however, it's important not to read too much into that because sometimes the marked error isn't actually the syntax error. For example, a syntax error is typing 'primt' instead of 'print' because 'primt' is not defined in Python. A syntax error can also occur when you try to use a reserved word for something other than it's intended use, for example, trying to define something \"Advanced\". \n"
   ]
  }
 ],
 "metadata": {
  "kernelspec": {
   "display_name": "Python 3",
   "language": "python",
   "name": "python3"
  },
  "language_info": {
   "codemirror_mode": {
    "name": "ipython",
    "version": 3
   },
   "file_extension": ".py",
   "mimetype": "text/x-python",
   "name": "python",
   "nbconvert_exporter": "python",
   "pygments_lexer": "ipython3",
   "version": "3.6.7"
  }
 },
 "nbformat": 4,
 "nbformat_minor": 2
}
